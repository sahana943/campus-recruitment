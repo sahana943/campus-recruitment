{
  "nbformat": 4,
  "nbformat_minor": 0,
  "metadata": {
    "colab": {
      "name": "placement.ipynb",
      "provenance": [],
      "toc_visible": true,
      "include_colab_link": true
    },
    "kernelspec": {
      "name": "python3",
      "display_name": "Python 3"
    }
  },
  "cells": [
    {
      "cell_type": "markdown",
      "metadata": {
        "id": "view-in-github",
        "colab_type": "text"
      },
      "source": [
        "<a href=\"https://colab.research.google.com/github/sahana943/campus-recruitment/blob/master/placement.ipynb\" target=\"_parent\"><img src=\"https://colab.research.google.com/assets/colab-badge.svg\" alt=\"Open In Colab\"/></a>"
      ]
    },
    {
      "cell_type": "markdown",
      "metadata": {
        "id": "DFZYmJzK5zs2",
        "colab_type": "text"
      },
      "source": [
        "#_classification_"
      ]
    },
    {
      "cell_type": "markdown",
      "metadata": {
        "id": "SaEqsEKK6C21",
        "colab_type": "text"
      },
      "source": [
        "#importing"
      ]
    },
    {
      "cell_type": "code",
      "metadata": {
        "id": "IwJQsBnQvJvJ",
        "colab_type": "code",
        "colab": {}
      },
      "source": [
        "import pandas as pd\n",
        "import numpy as np\n",
        "dataset = pd.read_csv('/content/datasets_596958_1073629_Placement_Data_Full_Class.csv')"
      ],
      "execution_count": 1,
      "outputs": []
    },
    {
      "cell_type": "markdown",
      "metadata": {
        "id": "GTWpV4To6ISh",
        "colab_type": "text"
      },
      "source": [
        "#splitting"
      ]
    },
    {
      "cell_type": "code",
      "metadata": {
        "id": "og4fmuD_vVHc",
        "colab_type": "code",
        "colab": {}
      },
      "source": [
        "x = dataset.iloc[:,[4,7,9,10,8,12]].values\n",
        "y = dataset.iloc[:,-2].values\n"
      ],
      "execution_count": 2,
      "outputs": []
    },
    {
      "cell_type": "markdown",
      "metadata": {
        "id": "okgET_pL6SeR",
        "colab_type": "text"
      },
      "source": [
        "#importing"
      ]
    },
    {
      "cell_type": "code",
      "metadata": {
        "id": "Dv59hR9W6efy",
        "colab_type": "code",
        "colab": {
          "base_uri": "https://localhost:8080/",
          "height": 34
        },
        "outputId": "cbefccb8-65e7-43f5-a9b8-e8a8e475bd77"
      },
      "source": [
        "from sklearn.compose import ColumnTransformer\n",
        "from sklearn.preprocessing import OneHotEncoder\n",
        "dataset['degree_t'].unique()"
      ],
      "execution_count": 3,
      "outputs": [
        {
          "output_type": "execute_result",
          "data": {
            "text/plain": [
              "array(['Sci&Tech', 'Comm&Mgmt', 'Others'], dtype=object)"
            ]
          },
          "metadata": {
            "tags": []
          },
          "execution_count": 3
        }
      ]
    },
    {
      "cell_type": "markdown",
      "metadata": {
        "id": "2CPTmf4F0o3z",
        "colab_type": "text"
      },
      "source": [
        "converting char to unique number,we use label encoding"
      ]
    },
    {
      "cell_type": "markdown",
      "metadata": {
        "id": "m_Iduz5U6oXE",
        "colab_type": "text"
      },
      "source": [
        "#label encoding"
      ]
    },
    {
      "cell_type": "code",
      "metadata": {
        "id": "ZHQP0ME96rKr",
        "colab_type": "code",
        "colab": {}
      },
      "source": [
        "ct = ColumnTransformer(transformers = [('encoder',OneHotEncoder(), [2,4])],remainder = 'passthrough')\n",
        "x = np.array(ct.fit_transform(x))\n",
        "from sklearn.preprocessing import LabelEncoder\n",
        "le = LabelEncoder()\n",
        "y = le.fit_transform(y)"
      ],
      "execution_count": 4,
      "outputs": []
    },
    {
      "cell_type": "markdown",
      "metadata": {
        "id": "Z8rtfTyO6wXe",
        "colab_type": "text"
      },
      "source": [
        "#splitting"
      ]
    },
    {
      "cell_type": "code",
      "metadata": {
        "id": "LQ1k9xMQ6y3X",
        "colab_type": "code",
        "colab": {}
      },
      "source": [
        "from sklearn.model_selection import train_test_split\n",
        "x_train, x_test, y_train, y_test = train_test_split(x, y, test_size = 0.2)"
      ],
      "execution_count": 5,
      "outputs": []
    },
    {
      "cell_type": "markdown",
      "metadata": {
        "id": "LAIwLKqX63ut",
        "colab_type": "text"
      },
      "source": [
        "#scaling"
      ]
    },
    {
      "cell_type": "code",
      "metadata": {
        "id": "2gHijylm67aJ",
        "colab_type": "code",
        "colab": {}
      },
      "source": [
        "from sklearn.preprocessing import StandardScaler\n",
        "sc = StandardScaler()\n",
        "x_train[:,4:] = sc.fit_transform(x_train[:,4:])\n",
        "x_test[:,4:] = sc.transform(x_test[:,4:])"
      ],
      "execution_count": 6,
      "outputs": []
    },
    {
      "cell_type": "markdown",
      "metadata": {
        "id": "YvS-ZAty7Bpt",
        "colab_type": "text"
      },
      "source": [
        "#importing\n"
      ]
    },
    {
      "cell_type": "code",
      "metadata": {
        "id": "byLlTv847PZR",
        "colab_type": "code",
        "colab": {}
      },
      "source": [
        "from sklearn.ensemble import RandomForestClassifier\n",
        "from sklearn.linear_model import  LogisticRegression\n",
        "from sklearn.tree import DecisionTreeClassifier\n",
        "from sklearn.neighbors import KNeighborsClassifier\n",
        "from sklearn.svm import SVC\n",
        "\n",
        "from sklearn.metrics import confusion_matrix"
      ],
      "execution_count": 7,
      "outputs": []
    },
    {
      "cell_type": "code",
      "metadata": {
        "id": "JBu2GTL87Vcw",
        "colab_type": "code",
        "colab": {}
      },
      "source": [
        "r_reg=RandomForestClassifier(n_estimators=200)\n",
        "l_reg=LogisticRegression()\n",
        "d_reg=DecisionTreeClassifier()\n",
        "k_reg=KNeighborsClassifier()\n",
        "s_reg=SVC()"
      ],
      "execution_count": 8,
      "outputs": []
    },
    {
      "cell_type": "markdown",
      "metadata": {
        "id": "FMGzxlrWASX3",
        "colab_type": "text"
      },
      "source": [
        "#fitting"
      ]
    },
    {
      "cell_type": "code",
      "metadata": {
        "id": "WkDhO9N77Xqd",
        "colab_type": "code",
        "colab": {
          "base_uri": "https://localhost:8080/",
          "height": 84
        },
        "outputId": "c9ddc87e-4e52-4260-a00d-6d04d1dc47da"
      },
      "source": [
        "r_reg.fit(x_train,y_train)\n",
        "l_reg.fit(x_train,y_train)\n",
        "d_reg.fit(x_train,y_train)\n",
        "k_reg.fit(x_train,y_train)\n",
        "s_reg.fit(x_train,y_train)"
      ],
      "execution_count": 9,
      "outputs": [
        {
          "output_type": "execute_result",
          "data": {
            "text/plain": [
              "SVC(C=1.0, break_ties=False, cache_size=200, class_weight=None, coef0=0.0,\n",
              "    decision_function_shape='ovr', degree=3, gamma='scale', kernel='rbf',\n",
              "    max_iter=-1, probability=False, random_state=None, shrinking=True,\n",
              "    tol=0.001, verbose=False)"
            ]
          },
          "metadata": {
            "tags": []
          },
          "execution_count": 9
        }
      ]
    },
    {
      "cell_type": "markdown",
      "metadata": {
        "id": "hx1ZYxtXAY40",
        "colab_type": "text"
      },
      "source": [
        "#predicting"
      ]
    },
    {
      "cell_type": "code",
      "metadata": {
        "id": "oj9h88Pv7hGW",
        "colab_type": "code",
        "colab": {
          "base_uri": "https://localhost:8080/",
          "height": 50
        },
        "outputId": "5ab78ced-2cad-4ae1-fc74-5da197256298"
      },
      "source": [
        "r_pred=r_reg.predict(x_test)\n",
        "l_pred=l_reg.predict(x_test)\n",
        "d_pred=d_reg.predict(x_test)\n",
        "k_pred=k_reg.predict(x_test)\n",
        "s_pred=s_reg.predict(x_test)\n",
        "cm = confusion_matrix(y_test,k_pred)\n",
        "print(cm)"
      ],
      "execution_count": 10,
      "outputs": [
        {
          "output_type": "stream",
          "text": [
            "[[ 7  5]\n",
            " [ 3 28]]\n"
          ],
          "name": "stdout"
        }
      ]
    },
    {
      "cell_type": "markdown",
      "metadata": {
        "id": "xWZfdIyFAdAC",
        "colab_type": "text"
      },
      "source": [
        "#displaying data"
      ]
    },
    {
      "cell_type": "code",
      "metadata": {
        "id": "5yu_0eVe7jt8",
        "colab_type": "code",
        "colab": {
          "base_uri": "https://localhost:8080/",
          "height": 101
        },
        "outputId": "40d27a86-945b-4729-b996-4fd6c8c6517f"
      },
      "source": [
        "from sklearn.metrics import accuracy_score\n",
        "r=accuracy_score(y_test,r_pred)\n",
        "l=accuracy_score(y_test,l_pred)\n",
        "d=accuracy_score(y_test,d_pred)\n",
        "k=accuracy_score(y_test,k_pred)\n",
        "s=accuracy_score(y_test,s_pred)\n",
        "print('RandomForestClassifier=',r)\n",
        "print('LogisticRegression=',l)\n",
        "print('DecisionTreeClassifier=',d)\n",
        "print('KNeighborsClassifier',k)\n",
        "print('SVC=',s)"
      ],
      "execution_count": 11,
      "outputs": [
        {
          "output_type": "stream",
          "text": [
            "RandomForestClassifier= 0.8837209302325582\n",
            "LogisticRegression= 0.8604651162790697\n",
            "DecisionTreeClassifier= 0.6511627906976745\n",
            "KNeighborsClassifier 0.813953488372093\n",
            "SVC= 0.8372093023255814\n"
          ],
          "name": "stdout"
        }
      ]
    },
    {
      "cell_type": "markdown",
      "metadata": {
        "id": "-x8Bpc4ctjHv",
        "colab_type": "text"
      },
      "source": [
        "here more accuary is shown in LogisticRegression classifier.so this is the best model for the data\n",
        "\n",
        "\n"
      ]
    },
    {
      "cell_type": "markdown",
      "metadata": {
        "id": "3VSCr1QaAjE6",
        "colab_type": "text"
      },
      "source": [
        "#confusion matrix"
      ]
    },
    {
      "cell_type": "code",
      "metadata": {
        "id": "HR4FyLI6AiQM",
        "colab_type": "code",
        "colab": {
          "base_uri": "https://localhost:8080/",
          "height": 50
        },
        "outputId": "ee532b57-c416-43b6-cb3e-688e9d4ec7e9"
      },
      "source": [
        "print('confusion_matrix',cm)"
      ],
      "execution_count": 12,
      "outputs": [
        {
          "output_type": "stream",
          "text": [
            "confusion_matrix [[ 7  5]\n",
            " [ 3 28]]\n"
          ],
          "name": "stdout"
        }
      ]
    },
    {
      "cell_type": "markdown",
      "metadata": {
        "id": "mhrmURB8A3lU",
        "colab_type": "text"
      },
      "source": [
        "#_regression_"
      ]
    },
    {
      "cell_type": "markdown",
      "metadata": {
        "id": "7eo0_1IbBDnX",
        "colab_type": "text"
      },
      "source": [
        "#importing"
      ]
    },
    {
      "cell_type": "code",
      "metadata": {
        "id": "evYbN864A3_0",
        "colab_type": "code",
        "colab": {}
      },
      "source": [
        "from sklearn.linear_model import LinearRegression\n",
        "from sklearn.preprocessing import PolynomialFeatures\n",
        "from sklearn.tree import DecisionTreeRegressor\n",
        "from sklearn.ensemble import RandomForestRegressor"
      ],
      "execution_count": 13,
      "outputs": []
    },
    {
      "cell_type": "code",
      "metadata": {
        "id": "oYF_Q8ulBHdS",
        "colab_type": "code",
        "colab": {}
      },
      "source": [
        "m_reg=LinearRegression()\n",
        "p_reg=LinearRegression()\n",
        "d_reg=DecisionTreeRegressor()\n",
        "r_reg=RandomForestRegressor()\n"
      ],
      "execution_count": 14,
      "outputs": []
    },
    {
      "cell_type": "markdown",
      "metadata": {
        "id": "LPw3oeH5BMuk",
        "colab_type": "text"
      },
      "source": [
        "#polynomial"
      ]
    },
    {
      "cell_type": "code",
      "metadata": {
        "id": "fDyr0fNNBPFV",
        "colab_type": "code",
        "colab": {}
      },
      "source": [
        "x_poly=PolynomialFeatures(degree=2)\n",
        "x_poly=x_poly.fit_transform(x_train)"
      ],
      "execution_count": 15,
      "outputs": []
    },
    {
      "cell_type": "code",
      "metadata": {
        "id": "R62yS1qGBSCb",
        "colab_type": "code",
        "colab": {
          "base_uri": "https://localhost:8080/",
          "height": 134
        },
        "outputId": "7f661161-0a79-4baf-a311-4d721d1adf75"
      },
      "source": [
        "m_reg.fit(x_train,y_train)\n",
        "p_reg.fit(x_poly,y_train)\n",
        "d_reg.fit(x_train,y_train)\n",
        "r_reg.fit(x_train,y_train)\n"
      ],
      "execution_count": 16,
      "outputs": [
        {
          "output_type": "execute_result",
          "data": {
            "text/plain": [
              "RandomForestRegressor(bootstrap=True, ccp_alpha=0.0, criterion='mse',\n",
              "                      max_depth=None, max_features='auto', max_leaf_nodes=None,\n",
              "                      max_samples=None, min_impurity_decrease=0.0,\n",
              "                      min_impurity_split=None, min_samples_leaf=1,\n",
              "                      min_samples_split=2, min_weight_fraction_leaf=0.0,\n",
              "                      n_estimators=100, n_jobs=None, oob_score=False,\n",
              "                      random_state=None, verbose=0, warm_start=False)"
            ]
          },
          "metadata": {
            "tags": []
          },
          "execution_count": 16
        }
      ]
    },
    {
      "cell_type": "markdown",
      "metadata": {
        "id": "9pzEmgiyBVAX",
        "colab_type": "text"
      },
      "source": [
        "#predicting data"
      ]
    },
    {
      "cell_type": "code",
      "metadata": {
        "id": "2XLLv4EZBUVE",
        "colab_type": "code",
        "colab": {}
      },
      "source": [
        "temp=PolynomialFeatures(degree=2)\n",
        "temp=temp.fit_transform(x_test)\n",
        "m_pred=m_reg.predict(x_test)\n",
        "p_pred=p_reg.predict(temp)\n",
        "d_pred=d_reg.predict(x_test)\n",
        "r_pred=r_reg.predict(x_test)"
      ],
      "execution_count": 17,
      "outputs": []
    },
    {
      "cell_type": "markdown",
      "metadata": {
        "id": "CpY_t8AZBbT8",
        "colab_type": "text"
      },
      "source": [
        "#displaying data"
      ]
    },
    {
      "cell_type": "code",
      "metadata": {
        "id": "NnmaSrICBYQu",
        "colab_type": "code",
        "colab": {
          "base_uri": "https://localhost:8080/",
          "height": 84
        },
        "outputId": "934cc77e-e02e-4b45-c184-91c5cb1a4ced"
      },
      "source": [
        "from sklearn.metrics import r2_score\n",
        "m =r2_score(y_test,m_pred)\n",
        "p =r2_score(y_test,p_pred)\n",
        "d =r2_score(y_test,d_pred)\n",
        "r =r2_score(y_test,r_pred)\n",
        "print(\"LinearRegression=\",m)\n",
        "print(\"PolynomialFeatures=\",p)\n",
        "print(\"DecisionTreeRegressor=\",d)\n",
        "print(\"RandomForestRegressor=\",r)"
      ],
      "execution_count": 18,
      "outputs": [
        {
          "output_type": "stream",
          "text": [
            "LinearRegression= 0.40905951523011164\n",
            "PolynomialFeatures= 0.20160959677593215\n",
            "DecisionTreeRegressor= -0.6182795698924732\n",
            "RandomForestRegressor= 0.5522913978494624\n"
          ],
          "name": "stdout"
        }
      ]
    },
    {
      "cell_type": "markdown",
      "metadata": {
        "id": "8wfwTsV_tuK3",
        "colab_type": "text"
      },
      "source": [
        "here LinearRegression shows more accuary than other models"
      ]
    }
  ]
}